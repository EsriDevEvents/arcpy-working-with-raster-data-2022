{
 "cells": [
  {
   "cell_type": "markdown",
   "metadata": {},
   "source": [
    "## Demo 3: Custom analysis with raster data"
   ]
  },
  {
   "cell_type": "markdown",
   "metadata": {},
   "source": [
    "- Calculate Slope in ArcGIS\n",
    "- A custom slope algorithm based on steepest downhill neighbor\n",
    "- Using Raster Cell Iterator (RCI) to calculate the custom slope \n",
    "- Deploy the custom slope method as a script tool in ArcGIS Pro"
   ]
  },
  {
   "cell_type": "markdown",
   "metadata": {},
   "source": [
    "<img src='https://pro.arcgis.com/en/pro-app/tool-reference/3d-analyst/GUID-43BD458B-05F2-4DC9-B133-12AE9C297797-web.png'>"
   ]
  },
  {
   "cell_type": "markdown",
   "metadata": {},
   "source": [
    "source: https://pro.arcgis.com/en/pro-app/tool-reference/3d-analyst/how-slope-works.htm"
   ]
  },
  {
   "cell_type": "markdown",
   "metadata": {},
   "source": [
    "### Slope algorithm used in ArcGIS"
   ]
  },
  {
   "cell_type": "markdown",
   "metadata": {},
   "source": [
    "![image.png](https://pro.arcgis.com/en/pro-app/tool-reference/3d-analyst/GUID-B594EF46-3ECF-4FCF-82C4-1D3673135B67-web.gif)"
   ]
  },
  {
   "cell_type": "markdown",
   "metadata": {},
   "source": [
    "\\begin{equation*}\n",
    "slopePercent   = \\arctan(\\sqrt{(\\frac{dz}{dx})^2 + (\\frac{dz}{dy})^2})\n",
    "\\end{equation*}"
   ]
  },
  {
   "cell_type": "markdown",
   "metadata": {},
   "source": [
    "where $\\frac{dz}{dx}$ is the rate of change in the horizontal direction for cell e, and $\\frac{dz}{dy}$ is the rate of change in the vertical direction for cell e"
   ]
  },
  {
   "cell_type": "markdown",
   "metadata": {},
   "source": [
    "\\begin{equation*}\n",
    "\\frac{dz}{dx}  = \\frac{\\frac{(c + 2f + i) \\times 4}{wght1} - \\frac{(a + 2d + g) \\times 4}{wght2}}{8 \\times cellsize}\n",
    "\\end{equation*}"
   ]
  },
  {
   "cell_type": "markdown",
   "metadata": {},
   "source": [
    "\\begin{equation*}\n",
    "\\frac{dz}{dy}  = \\frac{\\frac{(g + 2h + i) \\times 4}{wght3} - \\frac{(a + 2b + c) \\times 4}{wght4}}{8 \\times cellsize}\n",
    "\\end{equation*}"
   ]
  },
  {
   "cell_type": "markdown",
   "metadata": {},
   "source": [
    "where _wght1_ and _wght2_ are the horizontal weighted counts of valid cells and _wght3_ and _wght4_ are the vertical weighted counts of valid cells.\n",
    "\n",
    "For instance, if:\n",
    "\n",
    "- c, f, and i all have valid values, _wght1_ = (1+2*1+1) = 4.\n",
    "\n",
    "- i is NoData, _wght1_ = (1+2*1+0) = 3.\n",
    "\n",
    "- f is NoData, _wght1_ = (1+2*0+1) = 2."
   ]
  },
  {
   "cell_type": "markdown",
   "metadata": {},
   "source": [
    "### A custom slope algorithm based on steepest downhill neighbor"
   ]
  },
  {
   "cell_type": "markdown",
   "metadata": {},
   "source": [
    "![image.png](https://pro.arcgis.com/en/pro-app/tool-reference/3d-analyst/GUID-B594EF46-3ECF-4FCF-82C4-1D3673135B67-web.gif)"
   ]
  },
  {
   "cell_type": "markdown",
   "metadata": {},
   "source": [
    "**Algorithm:** It picks the steepest of the eight adjacent points slope value,  with the constrains that the point must be lower in elevation than the central point.  The slope value is assigned to the central point.\n",
    " \n",
    "**Usage:**  Most drainage basin algorithms use a variant of this algorithm, looking only for the neighbor into which water will flow. \n",
    "\n",
    "**Reference** Jones, K.H., 1998, A comparison of algorithms used to compute hill slope as a property of the DEM: Computers & Geosciences, vol.24, no.4, p.315-324."
   ]
  },
  {
   "cell_type": "markdown",
   "metadata": {},
   "source": [
    "### Using Raster Cell Iterator (RCI) to calculate the custom slope "
   ]
  },
  {
   "cell_type": "code",
   "execution_count": 3,
   "metadata": {},
   "outputs": [
    {
     "name": "stdout",
     "output_type": "stream",
     "text": [
      "Read input DEM...\n",
      "Start calculating steepest downhill neighbor slope...\n"
     ]
    },
    {
     "ename": "NameError",
     "evalue": "name 'slope' is not defined",
     "output_type": "error",
     "traceback": [
      "\u001b[0;31m---------------------------------------------------------------------------\u001b[0m\n\u001b[0;31mNameError\u001b[0m                                 Traceback (most recent call last)",
      "In  \u001b[0;34m[3]\u001b[0m:\nLine \u001b[0;34m26\u001b[0m:    slopes.append(slope)\n",
      "\u001b[0;31mNameError\u001b[0m: name 'slope' is not defined\n\u001b[0;31m---------------------------------------------------------------------------\u001b[0m"
     ]
    }
   ],
   "source": [
    "import math\n",
    "import arcpy\n",
    "from arcpy.sa import Raster, RasterCellIterator\n",
    "\n",
    "arcpy.env.overwriteOutput = True\n",
    "\n",
    "print('Read input DEM...')\n",
    "dem = Raster(r'C:\\DevSummit20\\PythonRaster\\Data\\SteepestDownhillSlope\\Input\\dem')\n",
    "cell_x, cell_y = dem.getRasterInfo().getCellSize()\n",
    "raster_info = dem.getRasterInfo()\n",
    "\n",
    "# Set the output pixel type to be float 32\n",
    "raster_info.setPixelType('F32')\n",
    "new_slope = Raster(raster_info)\n",
    "\n",
    "print('Start calculating steepest downhill neighbor slope...')\n",
    "with RasterCellIterator({'rasters':[dem, new_slope]}) as rci:\n",
    "    for r,c in rci:\n",
    "        slopes = []\n",
    "        \n",
    "        # Iterate through 8 neighbors\n",
    "        for x,y in [(-1,-1),(-1,0),(1,0),(0,-1),(0,1),(1,1),(-1,1),(1,-1)]:\n",
    "            # Calculate the slope from center cell to each neighbor\n",
    "            if dem[r,c] >= dem[r+x,c+y]: # only look for downhill slope\n",
    "                slope = abs(dem[r,c]-dem[r+x,c+y]) / math.sqrt((x*cell_x)**2+(y*cell_y)**2)\n",
    "                slopes.append(slope)\n",
    "        \n",
    "        # Assign the steepest slope to the output cell value\n",
    "        if len(slopes) != 0:\n",
    "            new_slope[r,c] = max(slopes)\n",
    "        \n",
    "print('Calculation finished.')\n",
    "new_slope.save(r'C:\\DevSummit20\\PythonRaster\\Data\\MinSlope\\Output\\steepest_downhill_slope')\n",
    "print('Output has been saved.')\n"
   ]
  },
  {
   "cell_type": "code",
   "execution_count": null,
   "metadata": {},
   "outputs": [],
   "source": []
  }
 ],
 "metadata": {
  "kernelspec": {
   "display_name": "ArcGISPro",
   "language": "Python",
   "name": "python3"
  },
  "language_info": {
   "file_extension": ".py",
   "name": "python",
   "version": "3"
  }
 },
 "nbformat": 4,
 "nbformat_minor": 2
}
